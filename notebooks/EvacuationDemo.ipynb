{
 "cells": [
  {
   "cell_type": "code",
   "execution_count": 1,
   "id": "7c40e063-7da0-45fa-b94f-576d77d61c8e",
   "metadata": {},
   "outputs": [
    {
     "name": "stdout",
     "output_type": "stream",
     "text": [
      "Path added: /mnt/c/Users/marti/Uni/Uni 2025/Computational Modelling/Proj/cits4403-evacuation-simulation/src\n",
      "pygame 2.6.1 (SDL 2.28.4, Python 3.13.5)\n",
      "Hello from the pygame community. https://www.pygame.org/contribute.html\n",
      "Successfully imported simulation.py\n"
     ]
    }
   ],
   "source": [
    "import sys, os\n",
    "\n",
    "# adjust based on what Step 1 printed\n",
    "sys.path.append(os.path.abspath(os.path.join(os.getcwd(), \"..\", \"src\")))\n",
    "\n",
    "print(\"Path added:\", os.path.abspath(os.path.join(os.getcwd(), \"..\", \"src\")))\n",
    "\n",
    "# now try again\n",
    "from simulation import load_layout, compute_distance_map, spread_fire_and_smoke, in_bounds\n",
    "print(\"Successfully imported simulation.py\")\n"
   ]
  },
  {
   "cell_type": "code",
   "execution_count": 2,
   "id": "036b8efb-71bc-4cb8-95ee-ef752ced31ee",
   "metadata": {},
   "outputs": [],
   "source": [
    "from simulation import load_layout, compute_distance_map, spread_fire_and_smoke, in_bounds\n",
    "import os, sys, random, matplotlib.pyplot as plt\n",
    "from simulation import load_layout, compute_distance_map, spread_fire_and_smoke\n",
    "import pygame"
   ]
  },
  {
   "cell_type": "markdown",
   "id": "00133d54-4c62-49ba-a155-7af0b3ff707c",
   "metadata": {},
   "source": [
    "# Fire Evacuation Simulation\n",
    "\n",
    "This notebook demonstrates our agent-based fire evacuation model developed in python using pygame.\n",
    "The simulation models how people (agents) move within a building during a fire, incorporating:\n",
    "- Fire and smoke spread across the grid \n",
    "- Heat diffusion and injury progression based on IS0 13571 thresholds \n",
    "- Individual panic and speed levels influencing decision-making \n",
    "- BFS-based shortest-path evacuation towards exits \n",
    "\n",
    "Agents interact with hazards and exits realistically, allowing users to explore how layout design and behaviour influence escape outcomes.\n",
    "\n",
    "## Tutorial: Building and Running Your Own Simulation\n",
    "\n",
    "This section explains how to construct, save, and load custom building layouts for your simulation.\n",
    "\n",
    "### 1. Launching the Simulation\n",
    "Run the program using the main file called simulation.py inside of the src directory and make sure to select a suitable width and height (70 pixels for each works well).\n"
   ]
  },
  {
   "cell_type": "markdown",
   "id": "b120dd11-7fc6-46f6-bfca-f7343eb1cb28",
   "metadata": {},
   "source": [
    "### 2. Building the Layout\n",
    "Construct your building interactively using keyboard shortcuts + mouse clicks.\n",
    "\n",
    "| Key | Function |\n",
    "|:----|:-----------|\n",
    "| 1 | Place or remove walls (black cells) |\n",
    "| 2 | Add or remove agents (blue cells) |\n",
    "| 3 | Add or remove exits (green cells) |\n",
    "| 4 | Add or remove fire sources (red cells) |\n",
    "\n",
    "Click anywhere on the grid while in a mode to place/remove elements.  \n",
    "Walls block movement and heat diffusion, exits allow escape, fires spread and generate smoke over time.\n"
   ]
  },
  {
   "cell_type": "markdown",
   "id": "162f5536-aebe-43d0-be24-279a8da143e0",
   "metadata": {},
   "source": [
    "### 3. Adjusting Zoom\n",
    "Use these keys to resize cells:\n",
    "\n",
    "- `+` = Zoom in\n",
    "- `–` = Zoom out\n",
    "\n",
    "Zooming helps inspect larger grids in detail."
   ]
  },
  {
   "cell_type": "markdown",
   "id": "9ea0f88b-a84d-4959-ae58-420080681f83",
   "metadata": {},
   "source": [
    "### 4. Running and Resetting the Simulation\n",
    "- Press Spacebar to start or pause.  \n",
    "- Press R to reset the grid.  \n",
    "\n",
    "During runtime, the HUD (top of window) displays:\n",
    "- Agents inside  \n",
    "- Exited / injured / fatal counts  \n",
    "- Elapsed time (s)"
   ]
  },
  {
   "cell_type": "markdown",
   "id": "e6ea8806-0fa5-49c4-b24b-a38dacded03e",
   "metadata": {},
   "source": [
    "### 5. Adjusting Global Agent Settings\n",
    "Press M to open the *Global Agent Menu* and modify:\n",
    "\n",
    "- Panic level ↑ / ↓  \n",
    "- Speed ← / →  \n",
    "- Number of agents affected Z / X  (This number randomly selects however many agents you choose and changes their speed to the amount you requested)\n",
    "- Press Enter to apply changes  \n",
    "\n",
    "This menu lets you quickly test different behavioural conditions. "
   ]
  },
  {
   "cell_type": "markdown",
   "id": "d088361f-faa4-4241-aabf-5acd3b8949d2",
   "metadata": {},
   "source": [
    "### 6. Viewing Agent Information\n",
    "Click on any agent during a paused simulation to open its info panel.  \n",
    "Displayed fields include:\n",
    "- ID, speed, age, panic  \n",
    "- Health status (healthy / injured / fatal / incapacitated)  \n",
    "- Temperature and exposure levels  \n",
    "\n",
    "You are also able to use the same controls explained above to change their panic level or speed individually. \n",
    "\n",
    "Press ESC to close or click Remove to delete that agent.\n",
    "\n",
    "\n",
    "### 7. Saving a Layout\n",
    "Press S to save your current layout as a JSON file:\n",
    "\n",
    "The file records:\n",
    "- Grid width and height  \n",
    "- Walls, exits, fires, and agent coordinates  \n",
    "\n",
    "You will see a console message confirming save success.\n"
   ]
  },
  {
   "cell_type": "markdown",
   "id": "4c97605d-e0af-435a-8d1a-3499dd61dd65",
   "metadata": {},
   "source": [
    "### 8. Loading a Layout\n",
    "Press L to load a saved layout. By default the code uses:\n",
    "```python\n",
    "grid, agents, exits, fires = load_layout(\"DenseCorridor_layout.json\")\n",
    "\n",
    "```\n",
    "If you want to change the layout that is loaded you have to close to application, change the filename in this line, and run the application again then click L.  \n",
    "\n",
    "Unfortunately there is no file-picker menu yet, you must edit this line manually before running if you want to load a layout.\n"
   ]
  },
  {
   "cell_type": "markdown",
   "id": "38f8a3e9-b82d-4e4d-ae9d-0fc84d9e4b2b",
   "metadata": {},
   "source": [
    "### 9. Ending the Simulation\n",
    "The simulation automatically ends when all agents:\n",
    "- Exit successfully, or\n",
    "- Become incapacitated.\n",
    "\n",
    "The timer stops and the final results remain visible on the HUD.\n"
   ]
  },
  {
   "cell_type": "markdown",
   "id": "dee68b68",
   "metadata": {},
   "source": [
    "## Code Explanation and Demonstrations\n",
    "\n",
    "In this section, we walk through the main sections of the code and explain how each part functions.  \n"
   ]
  },
  {
   "cell_type": "markdown",
   "id": "599355d5",
   "metadata": {},
   "source": [
    "### Configuration\n",
    "\n",
    "At the top of the code constants are defined to control the environment and physics of the simulation.  \n",
    "\n",
    "- Cell size and FPS determine grid resolution and frame rate.\n",
    "- Colors are RGB tuples for rendering. \n",
    "- Cell types (WALL, FIRE, EXIT) are integer-coded for easier grid manipulation. \n",
    "- Fire, smoke, and temperature thresholds are based on ISO 13571, giving realistic timing. "
   ]
  },
  {
   "cell_type": "code",
   "execution_count": 3,
   "id": "9a086efc",
   "metadata": {},
   "outputs": [
    {
     "name": "stdout",
     "output_type": "stream",
     "text": [
      "Cell size: 20px, FPS: 10\n",
      "Fire spreads every 70 ticks, smoke every 18.\n",
      "Agents start taking damage above 50.0°C.\n"
     ]
    }
   ],
   "source": [
    "CELL_SIZE = 20\n",
    "FPS = 10\n",
    "FIRE_SPREAD_DELAY = 70\n",
    "SMOKE_SPREAD_DELAY = 18\n",
    "SAFE_TEMP_THRESHOLD = 50.0\n",
    "\n",
    "print(f\"Cell size: {CELL_SIZE}px, FPS: {FPS}\")\n",
    "print(f\"Fire spreads every {FIRE_SPREAD_DELAY} ticks, smoke every {SMOKE_SPREAD_DELAY}.\")\n",
    "print(f\"Agents start taking damage above {SAFE_TEMP_THRESHOLD}°C.\")"
   ]
  },
  {
   "cell_type": "markdown",
   "id": "d167e6a2",
   "metadata": {},
   "source": [
    "### Heat Threshold \n",
    "\n",
    "The function get_heat_threshold(temp) determines how long an agent can survive at a given temperature.  \n",
    "These thresholds are pre-calculated from ISO standards for connective heat injury.  \n",
    "\n",
    "This is how the function classifies heat exposure at different temperatures:"
   ]
  },
  {
   "cell_type": "code",
   "execution_count": 4,
   "id": "3411de63",
   "metadata": {
    "scrolled": true
   },
   "outputs": [
    {
     "name": "stdout",
     "output_type": "stream",
     "text": [
      "At 100°C → Non-fatal in 16 ticks (1.6s), Fatal in 32 ticks (3.2s), Incapacitation in 48 ticks (4.8s).\n"
     ]
    }
   ],
   "source": [
    "HEAT_THRESHOLDS = [\n",
    "    (250, 1, 1, 1),\n",
    "    (200, 1, 2, 3),\n",
    "    (180, 2, 3, 5),\n",
    "    (170, 2, 4, 7),\n",
    "    (160, 3, 5, 8),\n",
    "    (150, 3, 7, 10),\n",
    "    (140, 4, 8, 12),\n",
    "    (130, 5, 10, 16),\n",
    "    (120, 8, 16, 24),\n",
    "    (110, 11, 22, 32),\n",
    "    (100, 16, 32, 48),\n",
    "    (90, 26, 52, 78),\n",
    "    (80, 40, 80, 120),\n",
    "    (70, 68, 136, 204),\n",
    "    (60, 120, 240, 360),\n",
    "    (50, 240, 480, 720)\n",
    "]\n",
    "\n",
    "def get_heat_thresholds(temp):\n",
    "    for threshold_temp, nf_ticks, f_ticks, inc_ticks in HEAT_THRESHOLDS:\n",
    "        if temp >= threshold_temp:\n",
    "            return (nf_ticks, f_ticks, inc_ticks)\n",
    "    return (float('inf'), float('inf'), float('inf'))\n",
    "\n",
    "# Try changing this temperature value:\n",
    "temp = 100\n",
    "nf, f, inc = get_heat_thresholds(temp)\n",
    "fps = 10\n",
    "print(f\"At {temp}°C → Non-fatal in {nf} ticks ({nf/fps:.1f}s), \"\n",
    "      f\"Fatal in {f} ticks ({f/fps:.1f}s), \"\n",
    "      f\"Incapacitation in {inc} ticks ({inc/fps:.1f}s).\")\n"
   ]
  },
  {
   "cell_type": "markdown",
   "id": "92cb03f3-f055-4717-a10e-65d883fc5d05",
   "metadata": {},
   "source": [
    "### Temperature to color conversion  \n",
    "The temp_to_color(temp) function converts numeric temperature values into visible color gradients.  \n",
    "- White = ambient temperature\n",
    "- Yellow/orange = moderate heat\n",
    "- Red = fire\n",
    "\n",
    "This function is used for visualizing heat diffusion in the grid. "
   ]
  },
  {
   "cell_type": "code",
   "execution_count": 5,
   "id": "eb68a861-7ad5-4598-a67b-76f446d8cd9a",
   "metadata": {},
   "outputs": [],
   "source": [
    "import matplotlib.pyplot as plt\n",
    "import numpy as np\n",
    "\n",
    "AMBIENT_TEMP = 20.0\n",
    "FIRE_TEMP = 600.0\n",
    "\n",
    "def temp_to_color(temp):\n",
    "    if temp <= AMBIENT_TEMP:\n",
    "        return (255, 255, 255)\n",
    "    elif temp >= FIRE_TEMP:\n",
    "        return (255, 0, 0)\n",
    "    norm = (temp - AMBIENT_TEMP) / (FIRE_TEMP - AMBIENT_TEMP)\n",
    "    if norm < 0.33:\n",
    "        t = norm / 0.33\n",
    "        r, g, b = 255, 255, int(255 * (1 - t))\n",
    "    elif norm < 0.66:\n",
    "        t = (norm - 0.33) / 0.33\n",
    "        r, g, b = 255, int(255 * (1 - 0.5 * t)), 0\n",
    "    else:\n",
    "        t = (norm - 0.66) / 0.34\n",
    "        r, g, b = 255, int(128 * (1 - t)), 0\n",
    "    return (r, g, b)\n",
    "\n"
   ]
  },
  {
   "cell_type": "markdown",
   "id": "68b0dd6d-4f51-4a0c-919b-4dfee9fc7618",
   "metadata": {},
   "source": [
    "### Fire and smoke spread \n",
    "The function spread_fire_and_smoke() updates which cells contain fire or smoke every tick.  \n",
    "- Fire spreads slower (FIRE_SPREAD_DELAY = 70)\n",
    "- Smoke spreads faster (SMOKE_SPREAD_DELAY = 18)\n",
    "\n",
    "We can show this in a small sample grid: "
   ]
  },
  {
   "cell_type": "code",
   "execution_count": 6,
   "id": "9283c982-a515-4999-944a-f26614378bf7",
   "metadata": {},
   "outputs": [
    {
     "name": "stdout",
     "output_type": "stream",
     "text": [
      "Tick 0:\n",
      "[0, 0, 0, 0, 0]\n",
      "[0, 0, 3, 0, 0]\n",
      "[0, 3, 3, 3, 0]\n",
      "[0, 0, 3, 0, 0]\n",
      "[0, 0, 0, 0, 0]\n",
      "\n",
      "Tick 70:\n",
      "[0, 0, 3, 0, 0]\n",
      "[0, 3, 3, 3, 0]\n",
      "[3, 3, 3, 3, 3]\n",
      "[0, 3, 3, 3, 0]\n",
      "[0, 0, 3, 0, 0]\n",
      "\n",
      "Tick 140:\n",
      "[0, 3, 3, 3, 0]\n",
      "[3, 3, 3, 3, 3]\n",
      "[3, 3, 3, 3, 3]\n",
      "[3, 3, 3, 3, 3]\n",
      "[0, 3, 3, 3, 0]\n",
      "\n"
     ]
    }
   ],
   "source": [
    "EMPTY, WALL, EXIT, FIRE, SMOKE = 0, 1, 2, 3, 4\n",
    "\n",
    "def spread_fire_and_smoke(grid, grid_width, grid_height, tick):\n",
    "    if tick % FIRE_SPREAD_DELAY == 0:\n",
    "        new_fire = []\n",
    "        for y in range(grid_height):\n",
    "            for x in range(grid_width):\n",
    "                if grid[y][x] == FIRE:\n",
    "                    for dx, dy in [(1,0),(-1,0),(0,1),(0,-1)]:\n",
    "                        nx, ny = x+dx, y+dy\n",
    "                        if 0 <= nx < grid_width and 0 <= ny < grid_height:\n",
    "                            if grid[ny][nx] in (EMPTY, SMOKE):\n",
    "                                new_fire.append((nx, ny))\n",
    "        for fx, fy in new_fire:\n",
    "            grid[fy][fx] = FIRE\n",
    "\n",
    "# Example: start with one fire source\n",
    "grid = [[EMPTY]*5 for _ in range(5)]\n",
    "grid[2][2] = FIRE\n",
    "\n",
    "for t in [0, 70, 140]:\n",
    "    spread_fire_and_smoke(grid, 5, 5, t)\n",
    "    print(f\"Tick {t}:\")\n",
    "    for row in grid:\n",
    "        print(row)\n",
    "    print()\n"
   ]
  },
  {
   "cell_type": "markdown",
   "id": "21f6219d-1ab4-456d-9e7f-dbfe2a7a0919",
   "metadata": {},
   "source": [
    "### Distance map \n",
    "The function compute_distance_map() calculates the shortest distance from every cell to the nearest exit.  \n",
    "This is how agents decide where to move during each tick using BFS."
   ]
  },
  {
   "cell_type": "code",
   "execution_count": 13,
   "id": "ef713b2b-f773-4b42-b678-87fdbee722f6",
   "metadata": {},
   "outputs": [
    {
     "name": "stdout",
     "output_type": "stream",
     "text": [
      "[4, 3, 2, 1, 0]\n",
      "[5, 4, 3, 2, 1]\n",
      "[6, 5, 4, 3, 2]\n",
      "[7, 6, 5, 4, 3]\n",
      "[8, 7, 6, 5, 4]\n"
     ]
    }
   ],
   "source": [
    "from collections import deque\n",
    "\n",
    "def compute_distance_map(exits, grid, grid_width, grid_height):\n",
    "    INF = float(\"inf\")\n",
    "    dist_map = [[INF]*grid_width for _ in range(grid_height)]\n",
    "    q = deque(exits)\n",
    "    for ex, ey in exits:\n",
    "        dist_map[ey][ex] = 0\n",
    "    while q:\n",
    "        x, y = q.popleft()\n",
    "        for dx, dy in [(1,0),(-1,0),(0,1),(0,-1)]:\n",
    "            nx, ny = x+dx, y+dy\n",
    "            if 0 <= nx < grid_width and 0 <= ny < grid_height:\n",
    "                if grid[ny][nx] != WALL and dist_map[ny][nx] == INF:\n",
    "                    dist_map[ny][nx] = dist_map[y][x] + 1\n",
    "                    q.append((nx, ny))\n",
    "    return dist_map\n",
    "\n",
    "# Here is a demo, change the exit cell tuple (4,0) passed into the function to see the values change\n",
    "grid = [[EMPTY]*5 for _ in range(5)]\n",
    "grid[0][4] = EXIT\n",
    "dist = compute_distance_map([(4,0)], grid, 5, 5)\n",
    "\n",
    "for row in dist:\n",
    "    print(row)\n"
   ]
  },
  {
   "cell_type": "markdown",
   "id": "0e241e4d-cac1-4401-991f-222877dd3120",
   "metadata": {},
   "source": [
    "### Saving and loading layouts  \n",
    "Layouts are stored as JSON files for reloading.  \n",
    "Below shows the code required for both saving and loading a layout. "
   ]
  },
  {
   "cell_type": "code",
   "execution_count": 14,
   "id": "9667b5fe-d7ce-4c98-beb6-1a0bca651da2",
   "metadata": {},
   "outputs": [],
   "source": [
    "def save_layout(filename, grid, agents, exits, fires):\n",
    "    layout = {\n",
    "        \"grid_width\": len(grid[0]),\n",
    "        \"grid_height\": len(grid),\n",
    "        \"walls\": [(x,y) for y,row in enumerate(grid) for x,c in enumerate(row) if c == WALL],\n",
    "        \"agents\": agents,\n",
    "        \"exits\": exits,\n",
    "        \"fires\": fires\n",
    "    }\n",
    "    with open(filename, \"w\") as f:\n",
    "        json.dump(layout, f, indent=2)\n",
    "    print(f\"Layout saved → {filename}\")\n",
    "\n",
    "def load_layout(filename):\n",
    "    with open(filename) as f:\n",
    "        layout = json.load(f)\n",
    "    print(f\"Layout loaded → {filename}\")\n",
    "    return layout"
   ]
  },
  {
   "cell_type": "markdown",
   "id": "8d6d8155-ef31-459a-b8d0-f884c607f79d",
   "metadata": {},
   "source": [
    "### Agent Decision and Movement System  \n",
    "During the simulation, each tick models a sequence of logical updates controlling how agents move.  \n",
    "\n",
    "This happens in four stages: \n",
    "- Stage 0 - Hazard Exposure & Injury Determination\n",
    "- Stage 1 - Movement Intent Declaration\n",
    "- Stage 2 - Same cell conflict resolution\n",
    "- Stage 3 - Exit capacity conflict resolution\n",
    "- Stage 4 - State update\n",
    "\n",
    "We will go through and explain the stages"
   ]
  },
  {
   "cell_type": "markdown",
   "id": "b86194c0-a4fe-4571-a9b1-0f0c449cb97a",
   "metadata": {},
   "source": [
    "### Stage 0 \n",
    "We check the surroundings and cell an agent is in and increment their exposure counters (which track how long an agent has been exposed to smoke/heat/fire).  \n",
    "These counters determine whether the agent transitions from Healthy --> Injured --> Fatally Injured --> Incapacitated.  \n",
    "\n",
    "The below code illustrates an example of an agent remaining in a lethal cell with higher heat or smoke levels. "
   ]
  },
  {
   "cell_type": "code",
   "execution_count": 15,
   "id": "d8bddd00-4b61-486a-9169-8e574c117592",
   "metadata": {},
   "outputs": [
    {
     "name": "stdout",
     "output_type": "stream",
     "text": [
      "Tick 1: Exposure=1, Health=Healthy\n",
      "Tick 2: Exposure=2, Health=Injured\n",
      "Tick 3: Exposure=3, Health=Fatal\n",
      "Tick 4: Exposure=4, Health=Incap\n",
      "Tick 5: Exposure=5, Health=Incap\n"
     ]
    }
   ],
   "source": [
    "SAFE_TEMP_THRESHOLD = 50.0\n",
    "HEALTHY, INJURED, FATALLY_INJURED, INCAPACITATED = 0, 1, 2, 3\n",
    "SMOKE_THRESHOLD = (2, 3, 4)\n",
    "\n",
    "agent_health = HEALTHY\n",
    "smoke_exposure = 0\n",
    "\n",
    "for tick in range(1, 6):\n",
    "    smoke_exposure += 1\n",
    "    if smoke_exposure >= SMOKE_THRESHOLD[2]:\n",
    "        agent_health = INCAPACITATED\n",
    "    elif smoke_exposure >= SMOKE_THRESHOLD[1]:\n",
    "        agent_health = FATALLY_INJURED\n",
    "    elif smoke_exposure >= SMOKE_THRESHOLD[0]:\n",
    "        agent_health = INJURED\n",
    "    print(f\"Tick {tick}: Exposure={smoke_exposure}, Health={['Healthy','Injured','Fatal','Incap'][agent_health]}\")\n"
   ]
  },
  {
   "cell_type": "markdown",
   "id": "3e6b58b6-048b-41df-92c4-2372a737c1a8",
   "metadata": {},
   "source": [
    "### Stage 1 Declaring intended moves\n",
    "This code is just for visual purposes and should not be run here.  \n",
    "At this stage, each agent decides what to do next based on their state, and distance from the nearest exit.  \n",
    "Agents that are incapacitated, waiting from a previous slow movement, or already at an exit are skipped here.  \n",
    "Others look at their surrounding cells and choose where to move: \n",
    "- Low panic means they're more likely to move towards a cell closer an exit.\n",
    "- High panic may randomly choose a sub-optimal neighbor to simulate confusion/human error.  \n",
    "\n",
    "Agents that reach an exit are added to 'exit_targets', while those left propose a normal move and are put into 'normal_targets' for the next stage. \n"
   ]
  },
  {
   "cell_type": "code",
   "execution_count": null,
   "id": "1db5d7cc-7ab6-4866-8a40-7f376183834a",
   "metadata": {},
   "outputs": [],
   "source": [
    "# Stage 1: each agent declares an intended move\n",
    "for idx, (ax, ay) in enumerate(agents):\n",
    "    if idx in incapacitated_idx:\n",
    "        survivors_idx.add(idx)\n",
    "        continue\n",
    "\n",
    "    speed = agent_data.get((ax, ay), {}).get(\"speed\", 1.0)\n",
    "    wait_ticks = agent_data.get((ax, ay), {}).get(\"wait_ticks\", \n",
    "    if wait_ticks > 0:\n",
    "        agent_data[(ax, ay)][\"wait_ticks\"] = wait_ticks - 1\n",
    "        survivors_idx.add(idx)\n",
    "        contin\n",
    "    if grid[ay][ax] == EXIT:\n",
    "        exit_pos = (ax, ay)\n",
    "        exit_targets[exit_pos].append(idx)\n",
    "        contin\n",
    "    if dist_map[ay][ax] == float(\"inf\"):\n",
    "        survivors_idx.add(idx)\n",
    "        contin\n",
    "    cands = []\n",
    "    for dx, dy in [(1,0), (-1,0), (0,1), (0,-1)]:\n",
    "        nx, ny = ax + dx, ay + dy\n",
    "        if in_bounds(nx, ny, grid_width, grid_height):\n",
    "            if grid[ny][nx] != WALL and (nx, ny) not in occupied:\n",
    "                cands.append((nx, ny\n",
    "    if not cands:\n",
    "        survivors_idx.add(idx)\n",
    "        contin\n",
    "    cands.sort(key=lambda p: dist_map[p[1]][p[0]])\n",
    "    best = cands[0]\n",
    "    cur_dist = dist_map[ay][a\n",
    "    panic_lvl = agent_data.get((ax, ay), {}).get(\"panic\", 0)\n",
    "    panic_prob = panic_lvl / 10\n",
    "    if len(cands) > 1 and random.random() < panic_prob:\n",
    "        move = random.choice(cands[1:])\n",
    "    else:\n",
    "        if dist_map[best[1]][best[0]] < cur_dist:\n",
    "            move = best\n",
    "        else:\n",
    "            survivors_idx.add(idx)\n",
    "            contin\n",
    "    if grid[move[1]][move[0]] == EXIT:\n",
    "        exit_targets[move].append(idx)\n",
    "    else:\n",
    "        normal_targets[move].append(idx)\n"
   ]
  },
  {
   "cell_type": "markdown",
   "id": "41d3d37a-f504-42fb-a111-660b069cda97",
   "metadata": {},
   "source": [
    "### Stage 2 Conflict Resolution for normal cells  \n",
    "Once all agents have declared their intended moves, conflicts occur when multiple agents target the same cell.  \n",
    "This stage randomly selects one winner to occupy the cell and leaves the rest in 'survivors_idx' meaning they stay still for that tick. "
   ]
  },
  {
   "cell_type": "code",
   "execution_count": null,
   "id": "2923eaf0-ab84-402d-b80d-3be30c6b9eb3",
   "metadata": {},
   "outputs": [],
   "source": [
    "# Stage 2: resolve conflicts for normal cells (one winner per cell)\n",
    "for target, idxs in sorted(normal_targets.items()):\n",
    "    if len(idxs) == 1:\n",
    "        winners_move[idxs[0]] = target\n",
    "    else:\n",
    "        random.shuffle(idxs)\n",
    "        winners_move[idxs[0]] = target\n",
    "        for loser in idxs[1:]:\n",
    "            survivors_idx.add(loser) \n"
   ]
  },
  {
   "cell_type": "markdown",
   "id": "4911a7f3-6c98-49b9-bf04-92261ce7f8ec",
   "metadata": {},
   "source": [
    "### Stage 3 Exit Resolution (Queuing at doors)  \n",
    "Exits have a limited capacity 'EXIT_CAPACITY_PER_TICK' so if multiple agents reach an exit simultaneously,  \n",
    "only a certain number can actually leave per tick.  \n",
    "The rest remain queued at the door until the next tick.  \n",
    "'removed_idx' stores agents that successfully exited this tick so they can be removed in the next stage. "
   ]
  },
  {
   "cell_type": "code",
   "execution_count": null,
   "id": "fa2b5009-073e-4eff-9554-7d324a6adfcc",
   "metadata": {},
   "outputs": [],
   "source": [
    "# Stage 3: resolve exits with capacity (queueing at doors)\n",
    "exit_cap_remaining = {e: EXIT_CAPACITY_PER_TICK for e in exits}\n",
    "for exit_pos, idxs in sorted(exit_targets.items()):\n",
    "    random.shuffle(idxs)\n",
    "    cap = exit_cap_remaining.get(exit_pos, EXIT_CAPACITY_PER_TICK)\n",
    "    winners_to_exit = idxs[:cap]\n",
    "    removed_idx.update(winners_to_exit)\n",
    "    exited_count += len(winners_to_exit)\n",
    "    for winner_idx in winners_to_exit:\n",
    "        health_state = agent_health.get(agents[winner_idx], HEALTHY)\n",
    "        if health_state == INJURED:\n",
    "            exited_injured_count += 1\n",
    "        elif health_state == FATALLY_INJURED:\n",
    "            exited_fatally_injured_count += 1\n",
    "    for loser in idxs[cap:]:\n",
    "        survivors_idx.add(loser)"
   ]
  },
  {
   "cell_type": "markdown",
   "id": "124f4289-923a-4112-8fdf-b344751653fb",
   "metadata": {},
   "source": [
    "### Stage 4 Updated Agents States  \n",
    "After movement and exits are resolved, the grid updates to reflect new positions and conditions.  \n",
    "Agents that exited or became incapacitated are removed, others carry their heat, smoke, and health data to their new coordinates.  \n",
    "This keeps exposure tracking and movement logic consistent between ticks.  \n",
    "'removed_idx' agents in this set are now deleted from all tracking lists to finalize their exit. "
   ]
  },
  {
   "cell_type": "code",
   "execution_count": null,
   "id": "ebf58970-dc38-4196-823b-045d40624e38",
   "metadata": {},
   "outputs": [],
   "source": [
    "# Stage 4: build next agents list + carry exposure and health to new coords\n",
    "new_agents = []\n",
    "new_exposure = {}\n",
    "new_agent_data = {}\n",
    "new_agent_health = {}\n",
    "new_heat_exposure_ticks = {}\n",
    "for idx, pos in enumerate(agents):\n",
    "    if idx in removed_idx:\n",
    "        if pos in exposure:\n",
    "            del exposure[pos]\n",
    "        if pos in agent_data:\n",
    "            del agent_data[pos]\n",
    "        if pos in agent_health:\n",
    "            del agent_health[pos]\n",
    "        if pos in heat_exposure_ticks:\n",
    "            del heat_exposure_ticks[pos]\n",
    "        continue\n",
    "    if idx in incapacitated_idx:\n",
    "        if pos in exposure:\n",
    "            del exposure[pos]\n",
    "        if pos in agent_data:\n",
    "            del agent_data[pos]\n",
    "        if pos in agent_health:\n",
    "            del agent_health[pos]\n",
    "        if pos in heat_exposure_ticks:\n",
    "            del heat_exposure_ticks[pos]\n",
    "        incapacitated_count += 1\n",
    "        contin\n",
    "    new_pos = winners_move[idx] if idx in winners_move else pos\n",
    "    new_agents.append(new_pos)\n",
    "    old_exp = exposure.get(pos, {\"smoke\": 0, \"fire\": 0})\n",
    "    new_exposure[new_pos] = old_exp\n",
    "    if pos in exposure and pos != new_pos:\n",
    "        del exposure[po\n",
    "    old_data = agent_data.get(pos)\n",
    "    if old_data is not None:\n",
    "        new_agent_data[new_pos] = old_da\n",
    "        if pos != new_pos:\n",
    "           speed = max(0.1, old_data[\"speed\"])\n",
    "           move_delay = max(0, int(round(1 / speed)) - 1)\n",
    "           new_agent_data[new_pos][\"wait_ticks\"] = move_del\n",
    "        if pos != new_pos and pos in agent_data:\n",
    "            del agent_data[po\n",
    "    old_health = agent_health.get(pos, HEALTHY)\n",
    "    new_agent_health[new_pos] = old_health\n",
    "    if pos in agent_health and pos != new_pos:\n",
    "        del agent_health[po\n",
    "    old_heat_ticks = heat_exposure_ticks.get(pos, 0)\n",
    "    new_heat_exposure_ticks[new_pos] = old_heat_ticks\n",
    "    if pos in heat_exposure_ticks and pos != new_pos:\n",
    "        del heat_exposure_ticks[po\n",
    "agents = new_agents\n",
    "exposure = new_exposure\n",
    "agent_data = new_agent_data\n",
    "agent_health = new_agent_health\n",
    "heat_exposure_ticks = new_heat_exposure_ticks"
   ]
  },
  {
   "cell_type": "markdown",
   "id": "b6406894-88fb-4a27-88d5-c5b2a2b7c2c7",
   "metadata": {},
   "source": [
    "Although we cannot display the full Pygame interface here, these notebook cells allow exploration of the logical and mathematical foundations of the simulation."
   ]
  }
 ],
 "metadata": {
  "kernelspec": {
   "display_name": "Python 3 (ipykernel)",
   "language": "python",
   "name": "python3"
  },
  "language_info": {
   "codemirror_mode": {
    "name": "ipython",
    "version": 3
   },
   "file_extension": ".py",
   "mimetype": "text/x-python",
   "name": "python",
   "nbconvert_exporter": "python",
   "pygments_lexer": "ipython3",
   "version": "3.13.5"
  }
 },
 "nbformat": 4,
 "nbformat_minor": 5
}
